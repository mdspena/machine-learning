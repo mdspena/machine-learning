{
 "cells": [
  {
   "cell_type": "code",
   "execution_count": 1,
   "metadata": {},
   "outputs": [],
   "source": [
    "import numpy as np\n",
    "import pandas as pd\n",
    "import seaborn as sns\n",
    "import matplotlib.pyplot as plt\n",
    "from sklearn.neighbors import KNeighborsClassifier\n",
    "from sklearn import preprocessing\n",
    "from sklearn.model_selection import train_test_split, cross_val_score\n",
    "from sklearn.linear_model import LogisticRegression\n",
    "from sklearn.linear_model import LogisticRegressionCV\n",
    "from sklearn.tree import DecisionTreeClassifier\n",
    "\n",
    "df = pd.read_csv(\"wdbc.csv\")"
   ]
  },
  {
   "cell_type": "code",
   "execution_count": 2,
   "metadata": {},
   "outputs": [],
   "source": [
    "atributos = [\"Diag\", \"Perimeter\", \"Area\", \"Compact\", \"Simmetry\", \"Texture\", \"AreaW\", \"SmoothW\"]\n",
    "\n",
    "df_clean = df.replace({\"Diag\":{'B':0, 'M':1}})\n",
    "\n",
    "atributos = list(df_clean.columns.values)\n",
    "atributos.remove('Diag')\n",
    "\n",
    "X = df_clean.loc[:, atributos]\n",
    "Y = df_clean.loc[:, 'Diag']\n",
    "\n",
    "X_train, X_test, Y_train, Y_test = train_test_split(X, Y, test_size=0.25, random_state=0)"
   ]
  },
  {
   "cell_type": "code",
   "execution_count": 3,
   "metadata": {},
   "outputs": [
    {
     "name": "stdout",
     "output_type": "stream",
     "text": [
      "1 -nearest-neighbors score: 0.8192474948005295\n",
      "2 -nearest-neighbors score: 0.7721213840045377\n",
      "3 -nearest-neighbors score: 0.7628771304324339\n",
      "4 -nearest-neighbors score: 0.7559557572319908\n",
      "5 -nearest-neighbors score: 0.7397901304594441\n",
      "6 -nearest-neighbors score: 0.7395105745077385\n",
      "7 -nearest-neighbors score: 0.7347459687221457\n",
      "8 -nearest-neighbors score: 0.7420630418928774\n",
      "9 -nearest-neighbors score: 0.7234610917537747\n"
     ]
    }
   ],
   "source": [
    "for i in range (1,10):\n",
    "    knn = KNeighborsClassifier(n_neighbors=i)\n",
    "    knn_scores = cross_val_score(knn, X_train, Y_train, cv=10)\n",
    "    print(i,\"-nearest-neighbors score:\", np.mean(knn_scores))"
   ]
  },
  {
   "cell_type": "markdown",
   "metadata": {},
   "source": [
    "O algoritmo com o melhor score foi o 1-vizinhos mais próximos."
   ]
  },
  {
   "cell_type": "code",
   "execution_count": 4,
   "metadata": {},
   "outputs": [],
   "source": [
    "max_score = 0;\n",
    "best_depth = 0;\n",
    "best_min_sample_leaf = 0;\n",
    "\n",
    "for i in range (1,10):\n",
    "    for j in range (1,10):\n",
    "        #print(\"Max Depth = \", i,\"\\nMin Samples Leaf =\", j)\n",
    "        dt = DecisionTreeClassifier(criterion = 'gini', max_depth = i, min_samples_leaf = j, random_state = 0)\n",
    "\n",
    "        dt_score = (cross_val_score(dt, X_train, Y_train, cv=10))\n",
    "        #print(\"Decision Tree score:\", np.mean(dt_score))\n",
    "        if(np.mean(dt_score) > max_score):\n",
    "            max_score = np.mean(dt_score)\n",
    "            best_depth = i;\n",
    "            best_min_sample_leaf = j;"
   ]
  },
  {
   "cell_type": "code",
   "execution_count": 5,
   "metadata": {},
   "outputs": [
    {
     "name": "stdout",
     "output_type": "stream",
     "text": [
      "Score:  0.943568862598925 \n",
      "best_depth:  4 \n",
      "best_min_sample_leaf:  2\n"
     ]
    }
   ],
   "source": [
    "print(\"Score: \",max_score,\"\\nbest_depth: \",best_depth,\"\\nbest_min_sample_leaf: \",best_min_sample_leaf)"
   ]
  },
  {
   "cell_type": "markdown",
   "metadata": {},
   "source": [
    "O melhor desempenho foi 0.93865 usando os parâmetros 4 para a profundidade e 6 para quantidade mpinima de amostras de nós folha."
   ]
  },
  {
   "cell_type": "code",
   "execution_count": 6,
   "metadata": {},
   "outputs": [
    {
     "name": "stdout",
     "output_type": "stream",
     "text": [
      "\n",
      "1-nearest-neighbors score: 0.720952380952381\n"
     ]
    }
   ],
   "source": [
    "knn = KNeighborsClassifier(n_neighbors=1)\n",
    "knn_scores = cross_val_score(knn, X_test, Y_test, cv=10)\n",
    "print(\"\\n1-nearest-neighbors score:\",np.mean(knn_scores))"
   ]
  },
  {
   "cell_type": "code",
   "execution_count": 7,
   "metadata": {},
   "outputs": [
    {
     "name": "stdout",
     "output_type": "stream",
     "text": [
      "Decision Tree score: 0.9019047619047619\n"
     ]
    }
   ],
   "source": [
    "dt = DecisionTreeClassifier(criterion = 'gini', max_depth = 4, min_samples_leaf = 2, random_state = 0)\n",
    "dt_score = (cross_val_score(dt, X_test, Y_test, cv=10))\n",
    "print(\"Decision Tree score:\", np.mean(dt_score))"
   ]
  },
  {
   "cell_type": "markdown",
   "metadata": {},
   "source": [
    "A acurácia do knn com 1 vizinho foi de 82% no treino e 72% no teste, já na árvore de decisão com parâmetros 4 (profundidade) e 2 (mínimo no nó folha), a acurácia foi de 94% no treino e 90% no teste."
   ]
  }
 ],
 "metadata": {
  "kernelspec": {
   "display_name": "Python 3",
   "language": "python",
   "name": "python3"
  },
  "language_info": {
   "codemirror_mode": {
    "name": "ipython",
    "version": 3
   },
   "file_extension": ".py",
   "mimetype": "text/x-python",
   "name": "python",
   "nbconvert_exporter": "python",
   "pygments_lexer": "ipython3",
   "version": "3.7.3"
  }
 },
 "nbformat": 4,
 "nbformat_minor": 2
}
