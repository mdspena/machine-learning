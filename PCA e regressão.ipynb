{
 "cells": [
  {
   "cell_type": "code",
   "execution_count": 1,
   "metadata": {},
   "outputs": [],
   "source": [
    "import sklearn.datasets as dt\n",
    "x_boston, y_boston = dt.load_boston(return_X_y=True)"
   ]
  },
  {
   "cell_type": "code",
   "execution_count": 2,
   "metadata": {},
   "outputs": [],
   "source": [
    "from sklearn.decomposition import PCA\n",
    "x_boston_pca = PCA(n_components=10).fit_transform(x_boston)"
   ]
  },
  {
   "cell_type": "code",
   "execution_count": 3,
   "metadata": {},
   "outputs": [],
   "source": [
    "from sklearn.model_selection import train_test_split\n",
    "import numpy as np\n",
    "from sklearn.linear_model import LinearRegression\n",
    "from sklearn.metrics import mean_squared_error\n",
    "from sklearn.metrics import r2_score\n",
    "lista_MSE_LR = []\n",
    "lista_R2_LR = []\n",
    "\n",
    "for i in range (100):\n",
    "    x_train, x_test, y_train, y_test = train_test_split(x_boston_pca, y_boston, test_size=0.2)\n",
    "    lr = LinearRegression()\n",
    "    lr.fit(x_train, y_train)\n",
    "    y_pred = lr.predict(x_test)\n",
    "    lista_MSE_LR.append(mean_squared_error(y_test, y_pred))\n",
    "    lista_R2_LR.append(r2_score(y_test, y_pred))\n",
    "    \n",
    "import matplotlib.pyplot as plt\n",
    "#plt.scatter(x_test, y_test)\n",
    "#plt.plot(x_test, y_pred, color='red')\n",
    "#plt.title('Grafo de dispersão dos dados de teste')\n",
    "#plt.xlabel('Data')\n",
    "#plt.ylabel('Target')\n",
    "#plt.show()"
   ]
  },
  {
   "cell_type": "code",
   "execution_count": 4,
   "metadata": {},
   "outputs": [
    {
     "name": "stdout",
     "output_type": "stream",
     "text": [
      "MSE mínimo:  12.379159163838475\n",
      "MSE médio:  28.669900543803\n",
      "MSE máximo:  41.97142731538944\n",
      "MSE desvio padrão:  6.056383466312913\n"
     ]
    },
    {
     "data": {
      "image/png": "[encoded data removed]",
      "text/plain": [
       "<Figure size 432x288 with 1 Axes>"
      ]
     },
     "metadata": {
      "needs_background": "light"
     },
     "output_type": "display_data"
    }
   ],
   "source": [
    "print(\"MSE mínimo: \", np.amin(lista_MSE_LR))\n",
    "print(\"MSE médio: \", np.median(lista_MSE_LR))\n",
    "print(\"MSE máximo: \", np.amax(lista_MSE_LR))\n",
    "print(\"MSE desvio padrão: \", np.std(lista_MSE_LR))\n",
    "plt.hist(lista_MSE_LR, bins=50);"
   ]
  },
  {
   "cell_type": "code",
   "execution_count": 5,
   "metadata": {},
   "outputs": [
    {
     "name": "stdout",
     "output_type": "stream",
     "text": [
      "R2 mínimo:  0.5255766864644545\n",
      "R2 médio:  0.6563314881220458\n",
      "R2 máximo:  0.7690029230171805\n",
      "R2 desvio padrão:  0.05135831952647524\n"
     ]
    },
    {
     "data": {
      "image/png": "[encoded data removed]",
      "text/plain": [
       "<Figure size 432x288 with 1 Axes>"
      ]
     },
     "metadata": {
      "needs_background": "light"
     },
     "output_type": "display_data"
    }
   ],
   "source": [
    "print(\"R2 mínimo: \", np.amin(lista_R2_LR))\n",
    "print(\"R2 médio: \", np.median(lista_R2_LR))\n",
    "print(\"R2 máximo: \", np.amax(lista_R2_LR))\n",
    "print(\"R2 desvio padrão: \", np.std(lista_R2_LR))\n",
    "plt.hist(lista_R2_LR, bins=50);"
   ]
  },
  {
   "cell_type": "code",
   "execution_count": 6,
   "metadata": {},
   "outputs": [],
   "source": [
    "from sklearn.ensemble import RandomForestRegressor\n",
    "lista_MSE_RF = []\n",
    "lista_R2_RF = []\n",
    "\n",
    "for i in range (100):\n",
    "    x_train, x_test, y_train, y_test = train_test_split(x_boston_pca, y_boston, test_size=0.2)\n",
    "    rf = RandomForestRegressor(n_estimators=100)\n",
    "    rf.fit(x_train, y_train)\n",
    "    y_pred = rf.predict(x_test)\n",
    "    lista_MSE_RF.append(mean_squared_error(y_test, y_pred))\n",
    "    lista_R2_RF.append(r2_score(y_test, y_pred))"
   ]
  },
  {
   "cell_type": "code",
   "execution_count": 7,
   "metadata": {},
   "outputs": [
    {
     "name": "stdout",
     "output_type": "stream",
     "text": [
      "MSE mínimo:  12.555486705882343\n",
      "MSE médio:  19.926569196078432\n",
      "MSE máximo:  40.88711624509801\n",
      "MSE desvio padrão:  5.850627945745933\n"
     ]
    },
    {
     "data": {
      "image/png": "[encoded data removed]",
      "text/plain": [
       "<Figure size 432x288 with 1 Axes>"
      ]
     },
     "metadata": {
      "needs_background": "light"
     },
     "output_type": "display_data"
    }
   ],
   "source": [
    "print(\"MSE mínimo: \", np.amin(lista_MSE_RF))\n",
    "print(\"MSE médio: \", np.median(lista_MSE_RF))\n",
    "print(\"MSE máximo: \", np.amax(lista_MSE_RF))\n",
    "print(\"MSE desvio padrão: \", np.std(lista_MSE_RF))\n",
    "plt.hist(lista_MSE_RF, bins=50);"
   ]
  },
  {
   "cell_type": "code",
   "execution_count": 8,
   "metadata": {},
   "outputs": [
    {
     "name": "stdout",
     "output_type": "stream",
     "text": [
      "R2 mínimo:  0.5625578996779533\n",
      "R2 médio:  0.7595455282392944\n",
      "R2 máximo:  0.8490009514790886\n",
      "R2 desvio padrão:  0.05359739535820572\n"
     ]
    },
    {
     "data": {
      "image/png": "[encoded data removed]",
      "text/plain": [
       "<Figure size 432x288 with 1 Axes>"
      ]
     },
     "metadata": {
      "needs_background": "light"
     },
     "output_type": "display_data"
    }
   ],
   "source": [
    "print(\"R2 mínimo: \", np.amin(lista_R2_RF))\n",
    "print(\"R2 médio: \", np.median(lista_R2_RF))\n",
    "print(\"R2 máximo: \", np.amax(lista_R2_RF))\n",
    "print(\"R2 desvio padrão: \", np.std(lista_R2_RF))\n",
    "plt.hist(lista_R2_RF, bins=50);"
   ]
  },
  {
   "cell_type": "code",
   "execution_count": 9,
   "metadata": {},
   "outputs": [],
   "source": [
    "from sklearn.svm import SVR\n",
    "lista_MSE_SVR = []\n",
    "lista_R2_SVR = []\n",
    "\n",
    "for i in range (100):\n",
    "    x_train, x_test, y_train, y_test = train_test_split(x_boston_pca, y_boston, test_size=0.2)\n",
    "    svr = SVR(kernel='linear')\n",
    "    svr.fit(x_train, y_train)\n",
    "    y_pred = svr.predict(x_test)\n",
    "    lista_MSE_SVR.append(mean_squared_error(y_test, y_pred))\n",
    "    lista_R2_SVR.append(r2_score(y_test, y_pred))"
   ]
  },
  {
   "cell_type": "code",
   "execution_count": 10,
   "metadata": {},
   "outputs": [
    {
     "name": "stdout",
     "output_type": "stream",
     "text": [
      "MSE mínimo:  14.900513091655872\n",
      "MSE médio:  29.05308408005983\n",
      "MSE máximo:  48.59119052013407\n",
      "MSE desvio padrão:  6.79986812739202\n"
     ]
    },
    {
     "data": {
      "image/png": "[encoded data removed]",
      "text/plain": [
       "<Figure size 432x288 with 1 Axes>"
      ]
     },
     "metadata": {
      "needs_background": "light"
     },
     "output_type": "display_data"
    }
   ],
   "source": [
    "print(\"MSE mínimo: \", np.amin(lista_MSE_SVR))\n",
    "print(\"MSE médio: \", np.median(lista_MSE_SVR))\n",
    "print(\"MSE máximo: \", np.amax(lista_MSE_SVR))\n",
    "print(\"MSE desvio padrão: \", np.std(lista_MSE_SVR))\n",
    "plt.hist(lista_MSE_SVR, bins=50);"
   ]
  },
  {
   "cell_type": "code",
   "execution_count": 11,
   "metadata": {},
   "outputs": [
    {
     "name": "stdout",
     "output_type": "stream",
     "text": [
      "R2 mínimo:  0.5169083916798973\n",
      "R2 médio:  0.6381672167792357\n",
      "R2 máximo:  0.755038637846197\n",
      "R2 desvio padrão:  0.05163976173237178\n"
     ]
    },
    {
     "data": {
      "image/png": "[encoded data removed]",
      "text/plain": [
       "<Figure size 432x288 with 1 Axes>"
      ]
     },
     "metadata": {
      "needs_background": "light"
     },
     "output_type": "display_data"
    }
   ],
   "source": [
    "print(\"R2 mínimo: \", np.amin(lista_R2_SVR))\n",
    "print(\"R2 médio: \", np.median(lista_R2_SVR))\n",
    "print(\"R2 máximo: \", np.amax(lista_R2_SVR))\n",
    "print(\"R2 desvio padrão: \", np.std(lista_R2_SVR))\n",
    "plt.hist(lista_R2_SVR, bins=50);"
   ]
  },
  {
   "cell_type": "markdown",
   "metadata": {},
   "source": [
    "Em 100 iterações, a média obtida pela Regressão Linear foi um MSE de 28.67 e R2 score de 0.66.\n",
    "\n",
    "Em 100 iterações, Random Forest com 100 árvores teve um MSE de 19.93 e R2 score de 0.76.\n",
    "\n",
    "Também em 100 iterações, o SVR com Kernel linear teve um MSE de 29.05 e R2 score de 0.64.\n",
    "\n",
    "Não plotei gráfico mostrando a curva porque mantive 10 features e não dá pra representar isso em um gráfico 2D. Fazendo o PCA pra diminuir pra 1 feature daria pra mostrar no gráfico, mas o R2 cai pra 0.15~0.20 em todos os modelos."
   ]
  },
  {
   "cell_type": "markdown",
   "metadata": {},
   "source": [
    "[PCA](https://scikit-learn.org/stable/modules/generated/sklearn.decomposition.PCA.html)\n",
    "\n",
    "[Linear Regression](https://scikit-learn.org/stable/modules/generated/sklearn.linear_model.LinearRegression.html)\n",
    "\n",
    "[Mean Squared Error](https://scikit-learn.org/stable/modules/generated/sklearn.metrics.mean_squared_error.html)\n",
    "\n",
    "[R2 score](https://scikit-learn.org/stable/modules/generated/sklearn.metrics.r2_score.html)\n",
    "\n",
    "[Random Forest](https://scikit-learn.org/stable/modules/generated/sklearn.ensemble.RandomForestRegressor.html)\n",
    "\n",
    "[SVR](https://scikit-learn.org/stable/modules/generated/sklearn.svm.SVR.html)"
   ]
  }
 ],
 "metadata": {
  "kernelspec": {
   "display_name": "Python 3",
   "language": "python",
   "name": "python3"
  },
  "language_info": {
   "codemirror_mode": {
    "name": "ipython",
    "version": 3
   },
   "file_extension": ".py",
   "mimetype": "text/x-python",
   "name": "python",
   "nbconvert_exporter": "python",
   "pygments_lexer": "ipython3",
   "version": "3.7.3"
  }
 },
 "nbformat": 4,
 "nbformat_minor": 2
}
