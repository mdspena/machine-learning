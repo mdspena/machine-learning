{
 "cells": [
  {
   "cell_type": "markdown",
   "metadata": {},
   "source": [
    "<h1 align=\"center\">Case Técnico</h1>\n",
    "\n",
    "<h1 align=\"center\">Programa de Estágio</h1>"
   ]
  },
  {
   "cell_type": "markdown",
   "metadata": {},
   "source": [
    "<p style=\"text-align: justify;\">Olá, candidato. Parabéns por ter chegado até aqui!</p>\n",
    "<p style=\"text-align: justify;\">Este case técnico foi desenvolvido para conhecermos suas habilidades e familiaridade com assuntos que você encontrará no seu dia-a-dia como estagiário.</p>\n",
    "<p style=\"text-align: justify;\">Os tópicos abordados são:</p>\n",
    "\n",
    "<p style=\"text-align: justify;\">\n",
    "    <ul>\n",
    "        <li>Questões teóricas de Machine Learning\n",
    "        <li>Programação em Python\n",
    "        <li>Estatística descritiva e manipulação de tabelas com SQL e Pandas\n",
    "        <li>Questões práticas de Machine Learning\n",
    "    </ul>\n",
    "</p>\n",
    "\n",
    "<p style=\"text-align: justify;\">A prova foi pensada para ser relativamente longa e exercitar sua capacidade de buscar informações na Internet. Não queremos que você saiba tudo de cabeça, mas que saiba buscar ajuda se encontrar dificuldade em algum ponto. O principal objetivo é entendermos a forma como você ataca um problema e organiza seu raciocínio em torno dele.</p>\n",
    "<p style=\"text-align: justify;\">A interpretação das questões é parte do processo e algumas questões são propositalmente abertas à interpretação, mas caso haja algum enunciado duvidoso, o autor do case fica à disposição para esclarecer quaisquer dúvidas no e-mail (endereço do e-mail).</p>"
   ]
  },
  {
   "cell_type": "markdown",
   "metadata": {},
   "source": [
    "<b>Formato da entrega</b>\n",
    "\n",
    "<p style=\"text-align: justify;\">Ao final das 24h disponíveis para a entrega do case enviar para o e-mail (endereço do e-mail) um relatório contendo a resposta para cada questão, assim como o código que acompanha algumas questões e, se necessário, uma breve descrição de como você buscou a solução. A entrega pode ser feita em PowerPoint, em um arquivo PDF ou até mesmo em um arquivo do Jupyter Notebook.</p>"
   ]
  },
  {
   "cell_type": "markdown",
   "metadata": {},
   "source": [
    "<b>Critérios da avaliação</b>\n",
    "<p style=\"text-align: justify;\">Queremos entender a forma como você atacou o problema, assim como a qualidade do código e a linha de raciocínio estabelecida. Caso você não tenha conseguido resolver alguma questão, não há problema! Descreva com detalhes o seu esforço de resolução e onde ficou bloqueado.</p>\n",
    "\n",
    "<p text-align: justify;><b style=\"color:red;\">Atenção:</b> a consulta a quaisquer materiais é livre. A cópia deles, <b>não</b>.\n",
    "Sabemos indentificar a consistência da qualidade de código e escrita entre as questões e vamos identificar quais questões foram copiadas.</p>"
   ]
  },
  {
   "cell_type": "markdown",
   "metadata": {},
   "source": [
    "<h1>Questões teóricas de Machine Learning</h1>"
   ]
  },
  {
   "cell_type": "markdown",
   "metadata": {},
   "source": [
    "<p style=\"text-align: justify;\"><b>1.</b> Descreva o que é o <i>trade-off</i> entre viés e variância.</p>"
   ]
  },
  {
   "cell_type": "markdown",
   "metadata": {},
   "source": [
    "<div style=\"color:blue;\">\n",
    "<p style=\"text-align: justify;\">O viés e a variância variam de acordo com a complexidade de um modelo. Se o modelo é mais complexo, de forma a acertar 99% do conjunto de treino, por exemplo, é sinal de <i>overfitting</i>. Isso significa que a variância será alta, uma vez que o modelo é incapaz de generalizar e acaba tendo um erro muito maior quando utilizado com o conjunto de teste. Se for um modelo mais simples, com um erro mais alto no conjunto de treino, o viés é que será alto. É um caso de <i>underfitting</i>. É como se o modelo fosse tão simples que \"não aprendeu nada\" e também terá um erro grande na hora de generalizar com o conjunto de teste.</p>\n",
    "</div>"
   ]
  },
  {
   "cell_type": "markdown",
   "metadata": {},
   "source": [
    "<img align=\"left\" src=\"https://i.imgur.com/UAt2ZRD.png\" alt=\"vies-variancia\">"
   ]
  },
  {
   "cell_type": "markdown",
   "metadata": {},
   "source": [
    "<div style=\"color:blue;\">\n",
    "<p style=\"text-align: justify;\">Em um exemplo prático: em um gráfico de duas dimensões com um conjunto de pontos distribuídos, se traçarmos uma linha representando uma equação de primeiro grau (a mais simples possível), teríamos um caso de <i>underfitting</i>, com um viés alto e variância baixa. Se ao invés de uma linha reta, traçássemos uma linha que passa por cada um dos pontos, teríamos um caso de <i>overfitting</i>, com a variância alta e viés baixo. O caso ideal é o meio termo, em que viés e variância se aproximam.</p>\n",
    "</div>"
   ]
  },
  {
   "cell_type": "markdown",
   "metadata": {},
   "source": [
    "<img align=\"left\" src=\"https://i.imgur.com/ykO58H1.png\" alt=\"vies-variancia-exemplo\">"
   ]
  },
  {
   "cell_type": "markdown",
   "metadata": {},
   "source": [
    "<p style=\"text-align: justify;\"><b>2.</b> Calcule a <i>precision</i> e o <i>recall</i> da tabela abaixo. Quando é interessante usar uma métrica ou outra para aferir a performance de um modelo?</p>\n",
    "\n",
    "<img align=\"left\" src=\"https://i.imgur.com/mrCTWdG.png\" alt=\"tabela-precision-recall\">"
   ]
  },
  {
   "cell_type": "markdown",
   "metadata": {},
   "source": [
    "<div style=\"color:blue;\">\n",
    "\n",
    "<p style=\"text-align: justify;\">TP = True Positive = 262</p>\n",
    "<p style=\"text-align: justify;\">TN = True Negative = 98</p>\n",
    "<p style=\"text-align: justify;\">FP = False Positive = 112</p>\n",
    "<p style=\"text-align: justify;\">FN = False Negative = 69</p>\n",
    "\n",
    "<p style=\"text-align: justify;\">Precisão = TP / (TP + FP) e Sensibilidade (ou revocação) = TP / (TP + FN)</p>\n",
    "</div>"
   ]
  },
  {
   "cell_type": "code",
   "execution_count": 1,
   "metadata": {},
   "outputs": [
    {
     "name": "stdout",
     "output_type": "stream",
     "text": [
      "Precision\n",
      "0.7005347593582888\n",
      "Recall\n",
      "0.7915407854984894\n",
      "Accuracy\n",
      "0.6654343807763401\n"
     ]
    }
   ],
   "source": [
    "print(\"Precision\")\n",
    "print(262/(262+112))\n",
    "print(\"Recall\")\n",
    "print(262/(262+69))\n",
    "print(\"Accuracy\")\n",
    "print((262+98)/(262+98+112+69))"
   ]
  },
  {
   "cell_type": "markdown",
   "metadata": {},
   "source": [
    "<div style=\"color:blue;\">\n",
    "<p style=\"text-align: justify;\">Geralmente usamos a acurácia, que mede a razão entre as predições corretas e o total de predições ((TP+TN)/(TP+TN+FP+FN) = ~67% neste caso), mas ela pode ser enganosa se as classes do problema forem desequilibradas, como quando os casos positivos são raros (se 90% das vezes for negativo, basta chutar tudo negativo e a acurácia será 90%).</p>\n",
    "\n",
    "<p style=\"text-align: justify;\">Em um diagnóstico de uma doença rara, por exemplo, o modelo pode ser melhor avaliado pela precisão, assim sabemos se ele é bom em acertar casos positivos (um classificador dessa doença que erra muito ao classificar casos positivos é inútil).</p>\n",
    "\n",
    "<p style=\"text-align: justify;\">Já quando é importante não deixar nenhum caso positivo de fora, como em um modelo para identificar infecção por coronavírus, uma sensibilidade (<i>recall</i>) alta seria melhor (como é uma doença de fácil transmissão, é importante que o modelo identifique o máximo de casos positivos, mesmo que para isso o número de FP aumente).</p>\n",
    "</div>"
   ]
  },
  {
   "cell_type": "markdown",
   "metadata": {},
   "source": [
    "<p style=\"text-align: justify;\"><b>3.</b> O que a Curva de Aprendizado da figura abaixo diz sobre a performance de um modelo? No eixo y temos o ROC AUC Score.</p>\n",
    "\n",
    "<img align=\"left\" src=\"https://i.imgur.com/gU663gL.png\" alt=\"learning curves\">"
   ]
  },
  {
   "cell_type": "markdown",
   "metadata": {},
   "source": [
    "<div style=\"color:blue;\">\n",
    "<p style=\"text-align: justify;\">Quanto maior o <i>score</i> (ou a área sobre a curva ROC), melhor é o modelo. Na imagem é possível perceber que aumentando o número de amostras o <i>score</i> de treinamento diminui, mas o de <i>cross-validation</i> aumenta. Isso quer dizer que com poucas amostras o modelo tem um desempenho melhor com o conjunto de treinamento inteiro, mas não é bom em generalizar. Aumentando o número de amostras o desempenho no conjunto de treino inteiro diminui, mas a capacidade de generalização melhora (isso porque a validação cruzada divide o conjunto de treino em <i>n</i> partes, usando <i>n-1</i> partes no treinamento e 1 no teste, fazendo <i>n</i> iterações, sempre variando qual parte é usada no teste, assim o modelo é testado com dados que não foram usados no seu treinamento, com o <i>cross-validation-score</i> sendo a média da acurácia das <i>n</i> iterações).</p>\n",
    "<p style=\"text-align: justify;\">Resumindo, um maior número de amostras melhora a capacidade de generalização de um modelo.</p>\n",
    "</div>"
   ]
  },
  {
   "cell_type": "markdown",
   "metadata": {},
   "source": [
    "<p style=\"text-align: justify;\"><b>4.</b> Descreva as etapas de um projeto de <i>Data Science</i>.</p>"
   ]
  },
  {
   "cell_type": "markdown",
   "metadata": {},
   "source": [
    "<div style=\"color:blue;\">\n",
    "<ul style=\"text-align: justify;\">\n",
    "    <li><b>Entender o problema</b>: etapa em que o problema é identificado e entendido. Precisa classificar diferentes tipos de flores? Por que? Quais flores? Ainda é possível utilizar as técnicas dos 5 W's ou dos 5 porquês;\n",
    "    <li><b>Coleta dos dados</b>: etapa em que os dados são extraídos, coletados e entendidos. Antes da coleta é importante definir quais dados serão extraídos (com base nas respostas obtidas na etapa anterior), se são dados estruturados ou não-estruturados, como será feita a coleta (query SQL, API, crawler), etc;\n",
    "    <li><b>Processamento dos dados</b>: etapa em que os dados são tratados e processados para evitar inconsistências e incoerências. Preenchimento de dados faltantes, garantia de que os dados não têm dimensões diferentes (como dados em metros e em quilômetros na mesma coluna), tratamento de duplicatas, outliers, números negativos para dados como idade, peso, altura, dentre outros;\n",
    "    <li><b>Exploração dos dados</b>: etapa em que os dados são explorados a fim de resolver o problema com o uso de bibliotecas como a Pandas, Sklearn e NLTK (depois de selecionar os atributos) e ferramentas como a WEKA e Power BI. \n",
    "    <li><b>Divulgação dos resultados</b>: etapa em que os <i>insights</i> da etapa anterior são apresentados aos <i>stakeholders</i><--eu não queria usar esses termos em inglês, mas acho que nenhuma em português carrega o mesmo significado-->. Para isso existem as bibliotecas Matplotlib e Seaborn e o bom e velho PowerPoint. Essa etapa deve ser feita de forma clara e objetiva, com ou sem uso de <i>storytelling</i> e deve deixar claro como os resultados deste projeto podem ajudar na tomada de decisão.\n",
    "</ul>\n",
    "</div>"
   ]
  },
  {
   "cell_type": "markdown",
   "metadata": {},
   "source": [
    "<p style=\"text-align: justify;\"><b>5.</b> Explique o Paradoxo de Simpson em Estatística.</p>"
   ]
  },
  {
   "cell_type": "markdown",
   "metadata": {},
   "source": [
    "<div style=\"color:blue;\">\n",
    "<p style=\"text-align: justify;\">O Paradoxo de Simpsom em estatística acontece quando um conjunto de dados aponta para uma conclusão positiva, mas quando esses dados são divididos em grupos eles apontam para uma conclusão negativa (ou vice-versa). </p>\n",
    "<p style=\"text-align: justify;\">Utilizando um exemplo genérico: digamos que um site tenha 170 artigos, sendo 150 em português e 20 em espanhol. Durante duas semanas Marcelo e Renato (que totalmente não existem, são apenas pessoas hipotéticas) editaram e melhoraram esses artigos.</p>\n",
    "<p style=\"text-align: justify;\">Na primeira semana Marcelo melhorou 50 dos artigos em português e Renato melhorou 15 dos artigos em espanhol. Na segunda semana Marcelo melhorou 4 artigos em espanhol e Renato melhorou 30 artigos em português.</p>\n",
    "<p style=\"text-align: justify;\">Analisando o conjunto completo fica claro que Marcelo melhorou mais artigos que Renato (55 x 53), mas separadamente, na primeira semana Marcelo melhorou 33% (50/150) do conjunto que trabalhou e Renato 40% (8/20) do dele e na segunda semana Marcelo melhorou 25% (5/20) e Renato 30% (45/150). Desta forma parece que Renato melhorou mais artigos que Marcelo.</p>\n",
    "<div>"
   ]
  },
  {
   "cell_type": "markdown",
   "metadata": {},
   "source": [
    "<p style=\"text-align: justify;\"><b>6.</b> Suponha que 5% da população seja homosexual. Por simplicidade, vamos assumir que os outros 95% sejam heterosexuais.</p>\n",
    "<p style=\"text-align: justify;\">Fernanda não sabe dessa proporção, mas surpreendentemente, ela consegue adivinhar a orientação sexual de uma pessoa com 90% de acurácia. Em outras palavaras, se uma pessoa for homosexual, ela tem 90% de chance de acertar (o mesmo para heterosexuais).</p>\n",
    "<p style=\"text-align: justify;\">O que é curioso é que Fernanda vai superestimar a porcentagem de pessoas homosexuais em uma população.</p>\n",
    "<p style=\"text-align: justify;\">Se a Fernanda conhecer alguém aleatoriamente, qual é a probabilidade de que ela pense que a pessoa é homosexual?</p>"
   ]
  },
  {
   "cell_type": "markdown",
   "metadata": {},
   "source": [
    "<div style=\"color:blue;\">\n",
    "<p style=\"text-align: justify;\">Assumindo que a população seja de 1000 pessoas (para facilitar), 950 são heterossexuais e 50 são homossexuais. Se Fernanda acerta 90% das vezes, dirá que:</p>\n",
    "    <ul>\n",
    "        <li>0.9 * 50 = 40 dos homossexuais são homossexuais (True Positive);\n",
    "        <li>0.1 * 50 = 10 dos homossexuais são heterossexuais (False Negative);\n",
    "        <li>0.9 * 950 = 855 dos heterossexuais são heterossexuais (True Negative); e\n",
    "        <li>0.1 * 950 = 95 dos heterossexuais são homossexuais (False Positive).\n",
    "    </ul>\n",
    "<p style=\"text-align: justify;\">Assim temos:</p>\n",
    "        <ul>\n",
    "        <li>TP = True Positive = 40;\n",
    "        <li>TN = True Negative = 855;\n",
    "        <li>FP = False Positive = 95; e\n",
    "        <li>FN = False Negative = 10.\n",
    "    </ul>\n",
    "<p style=\"text-align: justify;\">Fernanda acharia que 135 pessoas são homossexuais (TP+FP), ou seja, a probabilidade de Fernanda pensar que alguém aleatório que ela conheceu é homossexual é de 13,5%</p>\n",
    "</div>"
   ]
  },
  {
   "cell_type": "markdown",
   "metadata": {},
   "source": [
    "<h1>Programação em Python</h1><--finalmente-->"
   ]
  },
  {
   "cell_type": "markdown",
   "metadata": {},
   "source": [
    "<p style=\"text-align: justify;\"><b>1.</b> Escreva um programa para resolver o problema das <a style=\"text-decoration:none\"; rel=\"noopener\" href=\"https://en.wikipedia.org/wiki/Eight_queens_puzzle\">N-Rainhas</a>. Não se esqueça de enviar o código.</p>\n",
    "<p style=\"text-align: justify;\">\n",
    "    <ul>\n",
    "        <li><i>input</i>: um número natural 𝑁 ≥ 4.\n",
    "        <li><i>output</i>: alguma configuração possível do tabuleiro.\n",
    "    </ul>\n",
    "</p>"
   ]
  },
  {
   "cell_type": "code",
   "execution_count": 2,
   "metadata": {},
   "outputs": [],
   "source": [
    "import numpy as np\n",
    "\n",
    "def solveNQueens(n):\n",
    "    solution = np.zeros((n, n), dtype=np.int8)\n",
    "    if (solved(solution, 0, n) == False):\n",
    "        return False\n",
    "    print(solution)\n",
    "    \n",
    "def solved(solution, column, n):\n",
    "    if (column >= n):\n",
    "        return True;\n",
    "    \n",
    "    for i in range(n):        \n",
    "        if (isSafe(solution, i, column, n)):\n",
    "            solution[i][column] = 1;            \n",
    "            if (solved(solution, column + 1, n)): \n",
    "                return True;            \n",
    "            solution[i][column] = 0;\n",
    "            \n",
    "    return False\n",
    "\n",
    "def isSafe(solution, row, column, n):\n",
    "    for i in range (column):\n",
    "        if (solution[row][i] == 1):\n",
    "            return False; \n",
    "  \n",
    "    i = row\n",
    "    j = column\n",
    "    while ((i>=0) and (j>=0)):\n",
    "        if (solution[i][j] == 1):\n",
    "            return False;\n",
    "        i -= 1\n",
    "        j -= 1\n",
    "        \n",
    "    i = row\n",
    "    j = column\n",
    "    while ((i<n) and (j>=0)):\n",
    "        if (solution[i][j] == 1):\n",
    "            return False;\n",
    "        i += 1\n",
    "        j -= 1\n",
    "  \n",
    "    return True; "
   ]
  },
  {
   "cell_type": "code",
   "execution_count": 3,
   "metadata": {},
   "outputs": [
    {
     "name": "stdout",
     "output_type": "stream",
     "text": [
      "[[1 0 0 0 0 0 0 0]\n",
      " [0 0 0 0 0 0 1 0]\n",
      " [0 0 0 0 1 0 0 0]\n",
      " [0 0 0 0 0 0 0 1]\n",
      " [0 1 0 0 0 0 0 0]\n",
      " [0 0 0 1 0 0 0 0]\n",
      " [0 0 0 0 0 1 0 0]\n",
      " [0 0 1 0 0 0 0 0]]\n"
     ]
    }
   ],
   "source": [
    "n = 8\n",
    "\n",
    "solveNQueens(n)"
   ]
  },
  {
   "cell_type": "markdown",
   "metadata": {},
   "source": [
    "<div style=\"color:blue;\">\n",
    "<p style=\"text-align: justify;\">Usei esse mesmo problema na minha apresentação de Inteligência Artificial em 2018 (<a style=\"text-decoration:none\"; href=\"https://docs.google.com/presentation/d/1AhQj0kpAXBdTllLugYb-FzjIeRUtkRChXpTNBPdoWJI/edit?usp=sharing\">aqui</a>), o objetivo era apresentar uma técnica não vista na aula e comparar com uma técnica vista na aula, utilizando um problema de <i>benchmark</i>. O código era em Java, só adaptei para Python.</p>\n",
    "</div>"
   ]
  },
  {
   "cell_type": "markdown",
   "metadata": {},
   "source": [
    "<p style=\"text-align: justify;\"><b>2.</b> Escreva um programa para multiplicar duas matrizes <b>A</b> e <b>B</b>.</p>\n",
    "<p style=\"text-align: justify;\">\n",
    "    <ul>\n",
    "        <li><i>input</i>: duas matrizes <b>A</b> e <b>B</b>.\n",
    "        <li><i>output</i>: a matriz resultante ou uma mensagem indicando a inconsistência entre as dimensões das matrizes.\n",
    "    </ul>\n",
    "</p>"
   ]
  },
  {
   "cell_type": "code",
   "execution_count": 4,
   "metadata": {},
   "outputs": [],
   "source": [
    "def mult(A, B):\n",
    "    if (len(A[0]) != len(B)):\n",
    "        return print(\"Não é possível calcular o produto das duas matrizes.\")\n",
    "    n = len(A[0])\n",
    "    solution = np.zeros((len(A), len(A)), dtype=np.int8)\n",
    "    for i in range (len(A)):\n",
    "        for j in range (len(A)):\n",
    "            for k in range (n):\n",
    "                solution[i][j] += A[i][k] * B[k][j]\n",
    "    return print(solution)"
   ]
  },
  {
   "cell_type": "code",
   "execution_count": 5,
   "metadata": {},
   "outputs": [
    {
     "name": "stdout",
     "output_type": "stream",
     "text": [
      "[[ 6 12]\n",
      " [ 7  4]]\n",
      "Não é possível calcular o produto das duas matrizes.\n"
     ]
    }
   ],
   "source": [
    "A = [[2, 3, 1],\n",
    "     [-1, 0, 2]]\n",
    "\n",
    "B = [[1, -2],\n",
    "     [0, 5],\n",
    "     [4, 1]]\n",
    "\n",
    "mult(A, B)\n",
    "\n",
    "B.append([0,0])\n",
    "mult(A,B)"
   ]
  },
  {
   "cell_type": "markdown",
   "metadata": {},
   "source": [
    "<h1>Estatística descritiva e manipulação de tabelas</h1>"
   ]
  },
  {
   "cell_type": "markdown",
   "metadata": {},
   "source": [
    "<p style=\"text-align: justify;\"><b>1.</b> No material anexo foi enviado o arquivo <i>olympics_statistics.csv</i>. Este arquivo contém o histórico de participação dos países em olimpíadas até 2018, bem como seus históricos de medalhas. A tabela foi retirada desse <a style=\"text-decoration:none\"; rel=\"noopener\" href=\"https://en.wikipedia.org/wiki/All-time_Olympic_Games_medal_table\">artigo da Wikipedia</a> e segue o mesmo formato. Pede-se:</p>\n",
    "<p style=\"text-align: justify;\">Dos países que já ganharam mais de 10 medalhas nos jogos de inverno, qual é o sexto país que apresenta a maior diferença entre medalhas de ouro ganhas em jogos de verão e de inverno? De quanto é essa diferença?</p>\n",
    "<p style=\"text-align: justify;\">\n",
    "    <ul>\n",
    "        <li>Responda essa pergunta usando uma <i>query</i> SQL.\n",
    "        <li>Responda essa pergunta usando Pandas. <--estava escrito \"responda\" errado-->\n",
    "    </ul>\n",
    "</p>\n",
    "<p style=\"text-align: justify;\"><b>Dica:</b> existem sites onde é possível rodar queries SQL a partir de um arquivo CSV, como <a style=\"text-decoration:none\"; rel=\"noopener\" href=\"http://convertcsv.com/query-csv.htm\">esse</a>, por exemplo. Além disso, também pode-se usar o Microsoft Access.</p>"
   ]
  },
  {
   "cell_type": "markdown",
   "metadata": {},
   "source": [
    "<div style=\"color:blue;\">\n",
    "<b style=\"text-align: justify;\">Query:</b>\n",
    "</div>"
   ]
  },
  {
   "cell_type": "markdown",
   "metadata": {},
   "source": [
    "<div style=\"color:blue;\">\n",
    "<p style=\"text-align: justify;\">SELECT FIELD1,ABS(Gold_Summer - Gold_Winter) AS diff</p>\n",
    "<p style=\"text-align: justify;\">FROM mytable</p>\n",
    "<p style=\"text-align: justify;\">WHERE Total_Winter>10</p>\n",
    "<p style=\"text-align: justify;\">ORDER BY diff DESC</p>\n",
    "<p style=\"text-align: justify;\">LIMIT 1 OFFSET 5</p>\n",
    "</div>"
   ]
  },
  {
   "cell_type": "markdown",
   "metadata": {},
   "source": [
    "<div style=\"color:blue;\">\n",
    "<b style=\"text-align: justify;\">Saída:</b>\n",
    "</div>"
   ]
  },
  {
   "cell_type": "markdown",
   "metadata": {},
   "source": [
    "<img align=left src=\"https://i.imgur.com/y8fQyRc.png\" alt=\"query\">"
   ]
  },
  {
   "cell_type": "code",
   "execution_count": 6,
   "metadata": {},
   "outputs": [
    {
     "name": "stdout",
     "output_type": "stream",
     "text": [
      "País:\n",
      "5    Italy\n",
      "Name: Unnamed: 0, dtype: object \n",
      "\n",
      "Diferença:\n",
      "5    161\n",
      "Name: diff, dtype: int64\n"
     ]
    }
   ],
   "source": [
    "import pandas as pd\n",
    "import warnings\n",
    "warnings.filterwarnings('ignore')\n",
    "\n",
    "x = pd.read_csv(\"olympics_statistics.csv\")\n",
    "\n",
    "df = x[['Unnamed: 0', 'Gold_Summer', 'Gold_Winter', 'Total_Winter']]\n",
    "df['diff']= abs(df['Gold_Summer'] - df['Gold_Winter'])\n",
    "\n",
    "indexNames = df[ df['Total_Winter'] < 10 ].index\n",
    "df.drop(indexNames, inplace=True)\n",
    "\n",
    "df = df.sort_values(by=['diff'], ascending=False)\n",
    "df = df.reset_index()\n",
    "df = df.drop(['index'], axis=1)\n",
    "\n",
    "print(\"País:\")\n",
    "print(df.loc[[5]]['Unnamed: 0'],\"\\n\")\n",
    "print(\"Diferença:\")\n",
    "print(df.loc[[5]]['diff'])"
   ]
  },
  {
   "cell_type": "markdown",
   "metadata": {},
   "source": [
    "<p style=\"text-align: justify;\"><b>2. (Recomenda-se deixar essa questão para o final)</b> O <i>dataset</i> dessa questão foi inicialmente disponibilizado no <a style=\"text-decoration: none\"; rel=\"noopen\" href=\"https://www.kaggle.com/paololol/league-of-legends-ranked-matches\">Kaggle</a>. O contexto do <i>dataset</i> são partidas de <i>League of Legends</i>. Não é preciso conhecer o jogo para fazer essa questão.</p>\n",
    "<p style=\"text-align: justify;\">Na figura abaixo tem-se uma amostra da tabela fornecida. No <i>League of Legends</i> cada partida (identificada pelo <b>matchid</b>) contém 10 jogadores divididos em dois times <i>blue</i> e <i>red</i> (identificados na coluna <b>time</b>). Dentro de uma partida cada jogador escolhe um campeão diferente (identificados na coluna <b>name</b>) para jogar.</p>\n",
    "<img src=\"https://i.imgur.com/aHInzO4.png\" alt=\"lol-dataset\">\n",
    "<p style=\"text-align: justify;\">O arquivo encontra-se no material anexo como <i>lol_dataset.csv</i>. Esse arquivo já foi limpo e processado de forma a não haverem inconsistências como uma partida com menos de 10 jogadores ou partidas com campeões repetidos, portanto não é preciso se preocupar com isso. Existem 136 campeões diferentes nesse <i>dataset</i>. O que se pede é, a partir desse arquivo, chegar na tabela fornecida no exemplo abaixo:</p>\n",
    "<img src=\"https://i.imgur.com/o9WM1WX.png\" alt=\"lol-dataset-2\">\n",
    "<p style=\"text-align: justify;\">Deve-se agrupar por partida os campeões que foram usados em cada time. Para isso serão construídas colunas no formato <i>time_campeão</i>. A partir daí marca-se com <b>1</b> as posições dos campeões que apareceram em cada time (conforme identificado pelos quadrados vermelhos na figura) e com <b>0</b> todo o restante. Note que a tabela resultante deve ter 273 colunas. Uma de <b>matchid</b> e 2×136 para todos em campeões nos dois times. Cada linha da tabela deve ter 10 marcações de <b>1</b>.<p>\n",
    "<p style=\"text-align: justify;\"><b>Dica:</b> busque conhecer a técnica de <b>One-Hot Encoding</b>, existem bibliotecas tanto no <a style=\"text-decoration: none\"; rel=\"noopen\" href=\"https://scikit-learn.org/stable/modules/generated/sklearn.preprocessing.OneHotEncoder.htmlsklearn\">sklearn</a> quanto no <a style=\"text-decoration: none\"; rel=\"noopen\" href=\"https://pandas.pydata.org/pandas-docs/stable/generated/pandas.get_dummies.html\">pandas</a> que fazem essa tarefa. Além disso, busque entender o conceito de operações vetorizadas para manipulação de <i>DataFrames</i> no Pandas. Essa é uma tabela de tamanho médio, mas um programa de “força bruta” pode demorar bastante para rodar.</p>"
   ]
  },
  {
   "cell_type": "markdown",
   "metadata": {},
   "source": [
    "<div style=\"color:blue;\">\n",
    "<p style=\"text-align: justify;\">Deixei por último e acabei não conseguindo fazer :/</p>\n",
    "</div>"
   ]
  },
  {
   "cell_type": "markdown",
   "metadata": {},
   "source": [
    "<h1>Questões práticas de Machine Learning</h1>"
   ]
  },
  {
   "cell_type": "markdown",
   "metadata": {},
   "source": [
    "<p style=\"text-align: justify;\">Para as questões a seguir vamos usar o famoso <b>Iris dataset</b>. Copie o seguinte código para carregar os dados em um <i>DataFrame</i>.</p>"
   ]
  },
  {
   "cell_type": "code",
   "execution_count": 9,
   "metadata": {},
   "outputs": [],
   "source": [
    "from sklearn.datasets import load_iris\n",
    "data = load_iris()\n",
    "df = pd.DataFrame(data=data['data'], columns=data['feature_names'])\n",
    "df['target'] = data['target']"
   ]
  },
  {
   "cell_type": "markdown",
   "metadata": {},
   "source": [
    "<p style=\"text-align: justify;\"><b>1.</b> Sinta-se livre para gerar quaisquer visualizações dos dados de forma a explorar a relação entre as variáveis e como elas se correlacionam com a variável objetivo. Quais conclusões qualitativas podemos tirar acerca do poder de separação das variáveis?</p>"
   ]
  },
  {
   "cell_type": "markdown",
   "metadata": {},
   "source": [
    "<div style=\"color:blue;\">\n",
    "<p style=\"text-align: justify;\">Os dados tem 4 parâmetros representados por números reais.</p>\n",
    "</div>"
   ]
  },
  {
   "cell_type": "code",
   "execution_count": 10,
   "metadata": {},
   "outputs": [
    {
     "name": "stdout",
     "output_type": "stream",
     "text": [
      "   sepal length (cm)  sepal width (cm)  petal length (cm)  petal width (cm)  \\\n",
      "0                5.1               3.5                1.4               0.2   \n",
      "1                4.9               3.0                1.4               0.2   \n",
      "2                4.7               3.2                1.3               0.2   \n",
      "3                4.6               3.1                1.5               0.2   \n",
      "4                5.0               3.6                1.4               0.2   \n",
      "\n",
      "   target  \n",
      "0       0  \n",
      "1       0  \n",
      "2       0  \n",
      "3       0  \n",
      "4       0  \n"
     ]
    }
   ],
   "source": [
    "print(df.head(5))"
   ]
  },
  {
   "cell_type": "markdown",
   "metadata": {},
   "source": [
    "<div style=\"color:blue;\">\n",
    "<p style=\"text-align: justify;\">Os dados tem três classes e elas estão balanceadas.</p>\n",
    "</div>"
   ]
  },
  {
   "cell_type": "code",
   "execution_count": 11,
   "metadata": {},
   "outputs": [
    {
     "data": {
      "text/plain": [
       "2    50\n",
       "1    50\n",
       "0    50\n",
       "Name: target, dtype: int64"
      ]
     },
     "execution_count": 11,
     "metadata": {},
     "output_type": "execute_result"
    }
   ],
   "source": [
    "df['target'].value_counts()"
   ]
  },
  {
   "cell_type": "markdown",
   "metadata": {},
   "source": [
    "<div style=\"color:blue;\">\n",
    "<p style=\"text-align: justify;\">A largura e o comprimeiro das pétalas são os melhores atributos para separar os dados, pois têm a maior correlação com o target.</p>\n",
    "</div>"
   ]
  },
  {
   "cell_type": "code",
   "execution_count": 17,
   "metadata": {},
   "outputs": [
    {
     "data": {
      "image/png": "[encoded data removed]",
      "text/plain": [
       "<Figure size 1080x1080 with 2 Axes>"
      ]
     },
     "metadata": {
      "needs_background": "light"
     },
     "output_type": "display_data"
    }
   ],
   "source": [
    "import seaborn as sns\n",
    "import matplotlib.pyplot as plt\n",
    "plt.figure(figsize=(15,15))\n",
    "sns.heatmap(df.corr(), annot=True, square=True, cmap='coolwarm')\n",
    "plt.show()"
   ]
  },
  {
   "cell_type": "markdown",
   "metadata": {},
   "source": [
    "<p style=\"text-align: justify;\"><b>2.</b> Treine uma Regressão Logística usando todo o <i>dataset</i> e com o parâmetro 𝑟𝑎𝑛𝑑𝑜𝑚_𝑠𝑡𝑎𝑡𝑒 = 42.\n",
    "<p style=\"text-align: justify;\">Qual classe é prevista para os seguintes inputs (a ordem é a mesma do dataset)?\n",
    "<p style=\"text-align: justify;\">\n",
    "    <ul>\n",
    "        <li>[︂6.5 3 4 1.5]︂\n",
    "        <li>[︂6.5 3 6 2]︂\n",
    "        <li>[︂6.5 3 2 0.5]︂\n",
    "        <li>[︂5 3.5 2 0.5]\n",
    "    </ul>\n",
    "</p>"
   ]
  },
  {
   "cell_type": "code",
   "execution_count": 13,
   "metadata": {},
   "outputs": [],
   "source": [
    "from sklearn.linear_model import LogisticRegression\n",
    "y = df['target']\n",
    "x = df.drop(['target'],axis=1)\n",
    "lr = LogisticRegression(random_state=42, solver='newton-cg', multi_class='auto').fit(x, y)"
   ]
  },
  {
   "cell_type": "code",
   "execution_count": 14,
   "metadata": {},
   "outputs": [
    {
     "name": "stdout",
     "output_type": "stream",
     "text": [
      "   sepal length (cm)  sepal width (cm)  petal length (cm)  petal width (cm)\n",
      "0                6.5               3.0                4.0               1.5\n",
      "1                6.5               3.0                6.0               2.0\n",
      "2                6.5               3.0                2.0               0.5\n",
      "3                5.0               3.5                2.0               0.5\n"
     ]
    },
    {
     "data": {
      "text/plain": [
       "array([1, 2, 0, 0])"
      ]
     },
     "execution_count": 14,
     "metadata": {},
     "output_type": "execute_result"
    }
   ],
   "source": [
    "test = [[6.5, 3.0, 4.0, 1.5],[6.5, 3.0, 6.0, 2.0], [6.5, 3.0, 2.0, 0.5], [5.0, 3.5, 2.0, 0.5]]\n",
    "atributos = ['sepal length (cm)', 'sepal width (cm)', 'petal length (cm)', 'petal width (cm)']\n",
    "df_test = pd.DataFrame(test, columns = atributos)\n",
    "print(df_test)\n",
    "lr.predict(df_test)"
   ]
  },
  {
   "cell_type": "markdown",
   "metadata": {},
   "source": [
    "<div style=\"color:blue;\">\n",
    "<p style=\"text-align: justify;\">Os quatro casos de teste foram previstos como sendo das classes 1, 2, 0 e 0, respectivamente. A ordem é diferente. No dataset a ordem dos dados é: setosa (classe 0), versicolor (classe 1) e virginica (classe 2), enquanto os casos de teste estão na ordem versicolor, virginica e setosa.<--Não tenho certeza se \"ordem\" se referia a isso, mas acho que sim--></p></div>"
   ]
  },
  {
   "cell_type": "markdown",
   "metadata": {},
   "source": [
    "<p style=\"text-align: justify;\"><b>3.</b> Faça as mesmas previsões treinando uma Árvore de Decisão com os parâmetros 𝑟𝑎𝑛𝑑𝑜𝑚_𝑠𝑡𝑎𝑡𝑒 = 42, usando entropia e 𝑚𝑎𝑥_𝑑𝑒𝑝𝑡ℎ = 1.</p>\n",
    "<p style=\"text-align: justify;\">O que mudou com relação à Regressão Logísitica? Pensando na natureza do problema, os parâmetros passados para à Árvore de Decisão fazem sentido?</p>"
   ]
  },
  {
   "cell_type": "code",
   "execution_count": 15,
   "metadata": {},
   "outputs": [
    {
     "data": {
      "text/plain": [
       "array([1, 1, 0, 0])"
      ]
     },
     "execution_count": 15,
     "metadata": {},
     "output_type": "execute_result"
    }
   ],
   "source": [
    "from sklearn.tree import DecisionTreeClassifier\n",
    "dt = DecisionTreeClassifier(criterion = 'entropy', max_depth=1, random_state = 42)\n",
    "dt.fit(x, y)\n",
    "dt.predict(df_test)"
   ]
  },
  {
   "cell_type": "code",
   "execution_count": 16,
   "metadata": {},
   "outputs": [],
   "source": [
    "from sklearn.tree import export_graphviz\n",
    "export_graphviz(dt, out_file='tree.dot', \n",
    "                feature_names = atributos,\n",
    "                class_names = [\"Setosa\", \"Versicolor\", \"Virginica\"],\n",
    "                rounded = True,\n",
    "                proportion = False, \n",
    "                precision = 2,\n",
    "                filled = True)"
   ]
  },
  {
   "cell_type": "markdown",
   "metadata": {},
   "source": [
    "<div style=\"color:blue;\">\n",
    "<p style=\"text-align: justify;\">A classificação mudou. Com essa árvore de decisão os quatro casos de teste foram previstos como sendo das classes 1, 1, 0 e 0, respectivamente. O parâmetro <i>max_depth</i> foi o que estragou tudo. Árvores de decisão são árvores binárias, ou seja, cada nó tem dois filhos. Em cada nó há uma condição (petal lenght <= 2,45 cm, no caso). Como o problema tem três classes e a árvore com profundidade máxima 1 só pode ter dois nós folha, ela é incapaz de separar os dados em três classes.</p>\n",
    "</div>\n"
   ]
  },
  {
   "cell_type": "markdown",
   "metadata": {},
   "source": [
    "<img align=left src=\"https://i.imgur.com/PkV6FkU.png\" alt=\"iris-decision-tree\">"
   ]
  },
  {
   "cell_type": "markdown",
   "metadata": {},
   "source": [
    "<h3><b>Referências</b></h3>"
   ]
  },
  {
   "cell_type": "markdown",
   "metadata": {},
   "source": [
    "https://medium.com/beacon-insight/interpretando-modelos-de-machine-learning-96db60781354\n",
    "\n",
    "http://regisely.com/blog/bias-variance/\n",
    "\n",
    "James, Gareth, et al. An introduction to statistical learning. Vol. 112. New York: springer, 2013. (<a href=\"http://faculty.marshall.usc.edu/gareth-james/ISL/ISLR%20Seventh%20Printing.pdf\">disponível aqui</a>)\n",
    "\n",
    "https://medium.com/techbloghotmart/afinal-como-se-desenvolve-um-projeto-de-data-science-233472996c34\n",
    "\n",
    "https://minerandodados.com.br/guia-passo-a-passo-de-como-um-projeto-de-data-science-e-desenvolvido/\n",
    "\n",
    "https://stats-brazil.blogspot.com/2008/10/paradoxo-de-simpson.html\n",
    "\n",
    "https://pt.wikipedia.org/wiki/Paradoxo_de_Simpson\n",
    "\n",
    "https://www.geeksforgeeks.org/c-program-for-n-queen-problem-backtracking-3/\n",
    "\n",
    "https://www.todamateria.com.br/multiplicacao-de-matrizes/\n",
    "\n",
    "https://gist.github.com/curran/a08a1080b88344b0c8a7\n",
    "\n",
    "https://www.kaggle.com/kstaud85/iris-data-visualization\n",
    "\n",
    "https://stackoverflow.com/questions/16568/how-to-select-the-nth-row-in-a-sql-database-table\n",
    "\n",
    "https://www.geeksforgeeks.org/different-ways-to-create-pandas-dataframe/\n",
    "\n",
    "https://thispointer.com/python-pandas-how-to-drop-rows-in-dataframe-by-conditions-on-column-values/\n",
    "\n",
    "https://medium.com/@michaeldelsole/what-is-one-hot-encoding-and-how-to-do-it-f0ae272f1179\n",
    "\n",
    "Deixei de fora dúvidas pontuais do Python e de SQL (principalmente tiradas em fóruns).\n",
    "\n",
    "Também não coloquei links de bibliotecas."
   ]
  }
 ],
 "metadata": {
  "kernelspec": {
   "display_name": "Python 3",
   "language": "python",
   "name": "python3"
  },
  "language_info": {
   "codemirror_mode": {
    "name": "ipython",
    "version": 3
   },
   "file_extension": ".py",
   "mimetype": "text/x-python",
   "name": "python",
   "nbconvert_exporter": "python",
   "pygments_lexer": "ipython3",
   "version": "3.7.3"
  }
 },
 "nbformat": 4,
 "nbformat_minor": 2
}
