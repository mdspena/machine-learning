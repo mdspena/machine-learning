{
 "cells": [
  {
   "cell_type": "code",
   "execution_count": 1,
   "metadata": {},
   "outputs": [],
   "source": [
    "%matplotlib inline"
   ]
  },
  {
   "cell_type": "markdown",
   "metadata": {},
   "source": [
    "## Desenvolvimento"
   ]
  },
  {
   "cell_type": "markdown",
   "metadata": {},
   "source": [
    "### Importações"
   ]
  },
  {
   "cell_type": "markdown",
   "metadata": {},
   "source": [
    "Importe:\n",
    "- a biblioteca __random__\n",
    "- e os pacotes _base_, _creator_, _tools_ e _algorithms_ da biblioteca __deap__\n",
    "- a biblioteca __numpy__ como __np__\n",
    "- o pacote __matplotlib.pyplot__ como __plt__\n",
    "\n",
    "Obs: dependendo das versões dos pacotes, pode ser exibido um aviso sobre uma possível lentidão, mas esse aviso pode ser ignorado por enquanto."
   ]
  },
  {
   "cell_type": "code",
   "execution_count": 2,
   "metadata": {},
   "outputs": [],
   "source": [
    "import random\n",
    "from deap import base, creator, tools, algorithms\n",
    "import matplotlib.pyplot as plt\n",
    "import numpy as np"
   ]
  },
  {
   "cell_type": "markdown",
   "metadata": {},
   "source": [
    "Abaixo estão algumas configurações sobre os gráficos deste Notebook."
   ]
  },
  {
   "cell_type": "code",
   "execution_count": 3,
   "metadata": {},
   "outputs": [],
   "source": [
    "#%config InlineBackend.figure_format = 'svg' #tirei essa parte porque prefiro sem ela mesmo\n",
    "\n",
    "params = {'figure.figsize': [5, 5],\n",
    "          'axes.labelsize': 16,\n",
    "          'axes.titlesize':18,\n",
    "          'font.size': 16,\n",
    "          'legend.fontsize': 10,\n",
    "          'xtick.labelsize': 12,\n",
    "          'ytick.labelsize': 12\n",
    "    }\n",
    "\n",
    "plt.rcParams.update(params)\n",
    "plt.style.use('seaborn-notebook')"
   ]
  },
  {
   "cell_type": "markdown",
   "metadata": {},
   "source": [
    "### Criação do Tipo"
   ]
  },
  {
   "cell_type": "markdown",
   "metadata": {},
   "source": [
    "Crie os tipos:\n",
    "- FitnessMax\n",
    "- Individual\n",
    "\n",
    "Para criar, utilize a função __create__ do módulo ___creator___. Os argumentos são os seguintes:\n",
    "- o primeiro argumento da função é o nome do tipo a ser criado;\n",
    "- o segundo argumento é a classe base da qual o novo tipo criado deve herdar;\n",
    "- os demais argumentos, que são opcionais, são membros a serem adicionados ao novo tipo.\n",
    "\n",
    "Para o tipo \"FitnessMax\", herde de __base.Fitness__ e adicione o atributo de pesos __weights=(1.0,)__.\n",
    "\n",
    "Para o tipo \"Individual\", herde de __list__ e adicione o atributo __fitness=creator.FitnessMax__, que é justamente o que acabou de ser criado.\n",
    "\n",
    "Obs: pesos e quaisquer outros valores retornados de funções criadas com a biblioteca DEAP devem ser iteráveis; por isso, inclua a vírgula ao final do último valor de saída para esses casos."
   ]
  },
  {
   "cell_type": "code",
   "execution_count": 4,
   "metadata": {},
   "outputs": [],
   "source": [
    "creator.create(\"FitnessMax\", base.Fitness, weights=(1.0,))\n",
    "creator.create(\"Individual\", list, fitness=creator.FitnessMax)"
   ]
  },
  {
   "cell_type": "markdown",
   "metadata": {},
   "source": [
    "Apenas para fins didáticos, dado que não é algo necessário para rodar o código, crie um indivíduo chamado __ind__ com a função __creator.Individual__ recém criada. Utilize como argumento dessa função uma lista qualquer, de pelo menos 4 posições, apenas com valores 0 e 1; então, imprima a lista, o tipo da lista e o tipo do objeto __ind.fitness__."
   ]
  },
  {
   "cell_type": "code",
   "execution_count": 5,
   "metadata": {},
   "outputs": [
    {
     "name": "stdout",
     "output_type": "stream",
     "text": [
      "[1, 0, 1, 1, 0, 0, 1, 0, 1, 0]\n",
      "<class 'deap.creator.Individual'>\n",
      "<class 'deap.creator.FitnessMax'>\n"
     ]
    }
   ],
   "source": [
    "ind = creator.Individual([1, 0, 1, 1, 0, 0, 1, 0, 1, 0])\n",
    "\n",
    "print(ind)\n",
    "print(type(ind))\n",
    "print(type(ind.fitness))"
   ]
  },
  {
   "cell_type": "markdown",
   "metadata": {},
   "source": [
    "### Criação da Toolbox"
   ]
  },
  {
   "cell_type": "markdown",
   "metadata": {},
   "source": [
    "A Toolbox armazena funções com seus respectivos argumentos utilizando apelidos para uso simplificado no algoritmo. Para criar a Toolbox, utilize a função __base.Toolbox__.\n",
    "\n",
    "Para registrar as funções com seus apelidos, utilize a função __toolbox.register__ e seus argumentos são os seguintes:\n",
    "- o primeiro, obrigatório, é o apelido;\n",
    "- o segundo, obrigatório, é a função à qual o apelido será associado;\n",
    "- os demais, opcionais, são argumentos a serem utilizados quando a função for chamada pelo apelido no algoritmo.\n",
    "\n",
    "O primeiro apelido, \"attr_bool\", chama a função __random.randint__ com os argumentos 0 e 1 para sortear valores no intervalo [0, 1], ou seja, os valores serão apenas 0 ou 1. Você pode pensar nisso como bits.\n",
    "\n",
    "O segundo apelido, \"individual\", chama a função __tools.initRepeat__ para preencher uma classe Individual com o que é produzido por 10 chamadas da função __toolbox.attr_bool__, que acabou de ser criada.\n",
    "\n",
    "O terceiro apelido, \"population\", chama novamente a funçã0 __tools.initRepeat__ para fazer listas com base nos resultados da função __toolbox.individual__, apelidada anteriormente."
   ]
  },
  {
   "cell_type": "code",
   "execution_count": 6,
   "metadata": {},
   "outputs": [],
   "source": [
    "toolbox = base.Toolbox()\n",
    "toolbox.register(\"attr_bool\", random.randint, 0, 1)\n",
    "toolbox.register(\"individual\", tools.initRepeat, creator.Individual, toolbox.attr_bool, 10)\n",
    "toolbox.register(\"population\", tools.initRepeat, list, toolbox.individual)"
   ]
  },
  {
   "cell_type": "markdown",
   "metadata": {},
   "source": [
    "Agora execute o bloco a seguir para verificar o funcionamento das funções apelidadas com a Toolbox criada."
   ]
  },
  {
   "cell_type": "code",
   "execution_count": 7,
   "metadata": {},
   "outputs": [
    {
     "name": "stdout",
     "output_type": "stream",
     "text": [
      "bit is of type <class 'int'> and has value\n",
      "1\n",
      "ind is of type <class 'deap.creator.Individual'> and contains 10 bits\n",
      "[0, 1, 1, 0, 0, 0, 0, 0, 1, 0]\n",
      "pop is of type <class 'list'> and contains 3 individuals\n",
      "[[0, 1, 0, 0, 1, 0, 1, 0, 1, 1], [0, 1, 0, 1, 0, 1, 0, 1, 0, 1], [0, 0, 1, 0, 1, 1, 1, 1, 1, 1]]\n"
     ]
    }
   ],
   "source": [
    "bit = toolbox.attr_bool()\n",
    "ind = toolbox.individual()\n",
    "pop = toolbox.population(n=3)\n",
    "\n",
    "print(\"bit is of type %s and has value\\n%s\" % (type(bit), bit))\n",
    "print(\"ind is of type %s and contains %d bits\\n%s\" % (type(ind), len(ind), ind))\n",
    "print(\"pop is of type %s and contains %d individuals\\n%s\" % (type(pop), len(pop), pop))"
   ]
  },
  {
   "cell_type": "markdown",
   "metadata": {},
   "source": [
    "### Função de Avaliação"
   ]
  },
  {
   "cell_type": "markdown",
   "metadata": {},
   "source": [
    "Para o caso do problema OneMax, trata-se de uma função bastante simples, dado que apenas conta a quantidade de números 1 em um indivíduo. Chame a função de __evalOneMax__, que terá apenas um argumento, o indivíduo.\n",
    "\n",
    "Obs: lembre-se de que o valor retornado precisa ser iterável, então finalize a saída com uma vírgula."
   ]
  },
  {
   "cell_type": "code",
   "execution_count": 8,
   "metadata": {},
   "outputs": [
    {
     "data": {
      "text/plain": [
       "(2,)"
      ]
     },
     "execution_count": 8,
     "metadata": {},
     "output_type": "execute_result"
    }
   ],
   "source": [
    "def evalOneMax(individual):\n",
    "    return sum(individual),\n",
    "\n",
    "evalOneMax(toolbox.individual())"
   ]
  },
  {
   "cell_type": "markdown",
   "metadata": {},
   "source": [
    "### Operadores Genéticos"
   ]
  },
  {
   "cell_type": "markdown",
   "metadata": {},
   "source": [
    "Vamos registrar alguns operadores com apelidos que facilitem sua utilização futuramente, da mesma forma que foi feito na criação da Toolbox. Serão 4 ao todo.\n",
    "\n",
    "A primeira, \"evaluate\", refere-se à função de avaliação __evalOneMax__; como é uma função de apenas um único argumento, não é necessário atribuir nada por agora, já que isso será feito depois, quando for necessário.\n",
    "\n",
    "A segunda, \"mate\", refere-se à função de _Crossover_ de dois pontos __tools.cxTwoPoint__, que também não precisa de argumentos extras por enquanto.\n",
    "\n",
    "A terceira, \"mutate\", refere-se à função de mutação __tools.mutFlipBit__, que provoca mutações; recomenda-se utilizar o argumento __indpb=0.10__ para import 10% de chance de mutação a cada atributo.\n",
    "\n",
    "A quarta, \"select\", é o operador de seleção __toolbox.selTournament__; utilize o argumento __tournsize=3__."
   ]
  },
  {
   "cell_type": "code",
   "execution_count": 9,
   "metadata": {},
   "outputs": [],
   "source": [
    "toolbox.register(\"evaluate\", evalOneMax)\n",
    "toolbox.register(\"mate\", tools.cxTwoPoint)\n",
    "toolbox.register(\"mutate\", tools.mutFlipBit, indpb=0.10)\n",
    "toolbox.register(\"select\", tools.selTournament, tournsize=3)"
   ]
  },
  {
   "cell_type": "markdown",
   "metadata": {},
   "source": [
    "Apenas para testar a funcionalidade, crie um indivíduo chamado __ind__, imprima-o na tela, então cause uma mutação em __ind__ e exiba o resultado após a mutação."
   ]
  },
  {
   "cell_type": "code",
   "execution_count": 10,
   "metadata": {},
   "outputs": [
    {
     "name": "stdout",
     "output_type": "stream",
     "text": [
      "[1, 1, 0, 1, 0, 1, 1, 0, 0, 0]\n",
      "[1, 1, 1, 0, 0, 1, 1, 1, 0, 0]\n"
     ]
    }
   ],
   "source": [
    "ind = toolbox.individual()\n",
    "print(ind)\n",
    "toolbox.mutate(ind)\n",
    "print(ind)"
   ]
  },
  {
   "cell_type": "markdown",
   "metadata": {},
   "source": [
    "É importante destacar o fato de que os operadores podem fazer modificações nos indivíduos, ou seja, caso não seja feita uma cópia do indivíduo, os indivíduos anteriores podem se perder.\n",
    "\n",
    "Para salvar os indivíduos, pode-se utilizar a função __toolbox.clone__, já presente em qualquer toolbox, com o argumento sendo o indivíduo a ser copiado, assim como é feito na célula abaixo."
   ]
  },
  {
   "cell_type": "code",
   "execution_count": 11,
   "metadata": {},
   "outputs": [
    {
     "name": "stdout",
     "output_type": "stream",
     "text": [
      "False\n",
      "True\n"
     ]
    }
   ],
   "source": [
    "mutant = toolbox.clone(ind)\n",
    "print(mutant is ind)\n",
    "print(mutant == ind)"
   ]
  },
  {
   "cell_type": "markdown",
   "metadata": {},
   "source": [
    "### Evoluindo a População"
   ]
  },
  {
   "cell_type": "markdown",
   "metadata": {},
   "source": [
    "Defina a função __main__, onde será feita toda a parte principal do programa. As declarações anteriores estão guardadas globalmente neste Notebook, logo, podem ser utilizadas desde então.\n",
    "\n",
    "O programa principal, basicamente, gera uma população e a utiliza no algoritmo para evoluir a uma solução.\n",
    "\n",
    "Assim, crie uma população chamada __pop__ utilizando a função __toolbox.population__ com 50 indivíduos, ou seja, __n=50__ como argumento; e crie um Hall da fama chamado __hof__ com o uso da função __tools.HallOfFame(1)__.\n",
    "\n",
    "Para preparar as estatísticas, que também devem fazer parte da definição da função __main__, crie um objeto chamado __stats__ e atribua a ele a função __tools.Statistics__ com a função lambda __lambda ind: ind.fitness.value__ como argumento.\n",
    "\n",
    "Com o objeto __stats__ criado, registre nele as funções de média, mínimo e máximo (da biblioteca __numpy__) com os seguintes respectivos nomes: \"avg\", \"min\" e \"max\".\n",
    "\n",
    "Agora, atribuindo às variáveis __pop__ e __logbook__, utilize a função __algorithms.eaSimple__ (de duas saídas) com os seguintes argumentos de entrada:\n",
    "- a população, __pop__\n",
    "- a toolbox, __toolbox__\n",
    "- o ponto (percentual) separador de Crossover, __cxpb=0.5__\n",
    "- a probabilidade de mutação de cada atributo, __mutpb=0.2__\n",
    "- o número de gerações, __ngen=10__\n",
    "- o objeto de estatísticas, __stats=stats__\n",
    "- o objeto de Hall da fama, __halloffame=hof__\n",
    "- o argumento de impressão completa por iteração, __verbose=True__\n",
    "\n",
    "A saída da função __main__ deve ser composta por __pop__, __logbook__ e __hof__."
   ]
  },
  {
   "cell_type": "code",
   "execution_count": 12,
   "metadata": {},
   "outputs": [],
   "source": [
    "def main():\n",
    "    pop = toolbox.population(n=50)\n",
    "    hof = tools.HallOfFame(1)    \n",
    "    stats = tools.Statistics(lambda ind: ind.fitness.values)\n",
    "    stats.register(\"avg\", np.mean)\n",
    "    stats.register(\"min\", np.min)\n",
    "    stats.register(\"max\", np.max)\n",
    "    pop, logbook = algorithms.eaSimple(pop, toolbox, cxpb=0.5, mutpb=0.2, ngen=10, stats=stats, halloffame=hof, verbose=True)\n",
    "    return pop, logbook, hof"
   ]
  },
  {
   "cell_type": "markdown",
   "metadata": {},
   "source": [
    "Use o código a seguir para calcular os resultados e exibí-los."
   ]
  },
  {
   "cell_type": "code",
   "execution_count": 13,
   "metadata": {
    "scrolled": false
   },
   "outputs": [
    {
     "name": "stdout",
     "output_type": "stream",
     "text": [
      "gen\tnevals\tavg \tmin\tmax\n",
      "0  \t50    \t5.04\t1  \t9  \n",
      "1  \t26    \t6.48\t4  \t9  \n",
      "2  \t23    \t7.44\t5  \t9  \n",
      "3  \t33    \t8.14\t6  \t10 \n",
      "4  \t36    \t8.54\t7  \t10 \n",
      "5  \t24    \t9.06\t8  \t10 \n",
      "6  \t23    \t9.66\t7  \t10 \n",
      "7  \t28    \t9.72\t8  \t10 \n",
      "8  \t32    \t9.92\t8  \t10 \n",
      "9  \t28    \t9.88\t8  \t10 \n",
      "10 \t21    \t9.9 \t8  \t10 \n",
      "Best individual is: [1, 1, 1, 1, 1, 1, 1, 1, 1, 1]\n",
      "with fitness: (10.0,)\n"
     ]
    },
    {
     "data": {
      "image/png": "[encoded data removed]",
      "text/plain": [
       "<Figure size 576x396 with 1 Axes>"
      ]
     },
     "metadata": {
      "needs_background": "light"
     },
     "output_type": "display_data"
    }
   ],
   "source": [
    "if __name__ == \"__main__\":\n",
    "    pop, log, hof = main()\n",
    "    print(\"Best individual is: %s\\nwith fitness: %s\" % (hof[0], hof[0].fitness))\n",
    "    \n",
    "    gen, avg, min_, max_ = log.select(\"gen\", \"avg\", \"min\", \"max\")\n",
    "    plt.plot(gen, avg, label=\"average\", linewidth=3)\n",
    "    plt.plot(gen, min_, label=\"minimum\", linewidth=3)\n",
    "    plt.plot(gen, max_, label=\"maximum\", linewidth=3)\n",
    "    plt.xlabel(\"Generation\")\n",
    "    plt.ylabel(\"Fitness\")\n",
    "    plt.legend(loc=\"lower right\")\n",
    "    plt.grid(True)\n",
    "    plt.show()"
   ]
  }
 ],
 "metadata": {
  "kernelspec": {
   "display_name": "Python 3",
   "language": "python",
   "name": "python3"
  },
  "language_info": {
   "codemirror_mode": {
    "name": "ipython",
    "version": 3
   },
   "file_extension": ".py",
   "mimetype": "text/x-python",
   "name": "python",
   "nbconvert_exporter": "python",
   "pygments_lexer": "ipython3",
   "version": "3.7.3"
  }
 },
 "nbformat": 4,
 "nbformat_minor": 2
}
