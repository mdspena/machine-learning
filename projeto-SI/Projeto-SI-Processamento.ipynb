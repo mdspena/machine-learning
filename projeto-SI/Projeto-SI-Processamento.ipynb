{
 "cells": [
  {
   "cell_type": "code",
   "execution_count": 1,
   "metadata": {},
   "outputs": [],
   "source": [
    "import pandas as pd\n",
    "import numpy as np\n",
    "import random\n",
    "import math\n",
    "from pandas import DataFrame as df\n",
    "import warnings\n",
    "warnings.filterwarnings('ignore')\n",
    "\n",
    "x = pd.read_csv(\"YouTube_Dataset.csv\")"
   ]
  },
  {
   "cell_type": "code",
   "execution_count": 2,
   "metadata": {},
   "outputs": [
    {
     "name": "stdout",
     "output_type": "stream",
     "text": [
      "0     498\n",
      "1     610\n",
      "2     397\n",
      "3     431\n",
      "4     956\n",
      "5     916\n",
      "6     752\n",
      "7    1387\n",
      "8     744\n",
      "9     478\n",
      "Name: Duração, dtype: object\n"
     ]
    }
   ],
   "source": [
    "# Alterando a duração para segundos\n",
    "for i in range (len(x['Duração'])):\n",
    "    s = \"\"\n",
    "    s = x['Duração'][i].split(\":\")\n",
    "    x['Duração'][i] = (int(s[0])*60 + int(s[1]))\n",
    "    \n",
    "print(x['Duração'].head(10))"
   ]
  },
  {
   "cell_type": "code",
   "execution_count": 3,
   "metadata": {},
   "outputs": [],
   "source": [
    "def mes(temp):\n",
    "    if(temp == \"jan.\"):\n",
    "        return \"/1/\"\n",
    "    if(temp == \"fev.\"):\n",
    "        return \"/2/\"\n",
    "    if(temp == \"mar.\"):\n",
    "        return \"/3/\"\n",
    "    if(temp == \"abr.\"):\n",
    "        return \"/4/\"\n",
    "    if(temp == \"mai.\"):\n",
    "        return \"/5/\"\n",
    "    if(temp == \"jun.\"):\n",
    "        return \"/6/\"\n",
    "    if(temp == \"jul.\"):\n",
    "        return \"/7/\"\n",
    "    if(temp == \"ago.\"):\n",
    "        return \"/8/\"\n",
    "    if(temp == \"set.\"):\n",
    "        return \"/9/\"\n",
    "    if(temp == \"out.\"):\n",
    "        return \"/10/\"\n",
    "    if(temp == \"nov.\"):\n",
    "        return \"/11/\"\n",
    "    if(temp == \"dez.\"):\n",
    "        return \"/12/\""
   ]
  },
  {
   "cell_type": "code",
   "execution_count": 4,
   "metadata": {},
   "outputs": [
    {
     "name": "stdout",
     "output_type": "stream",
     "text": [
      "0     24/3/2018\n",
      "1     24/1/2016\n",
      "2     26/7/2015\n",
      "3     19/3/2018\n",
      "4    11/12/2017\n",
      "5     29/5/2017\n",
      "6     09/3/2017\n",
      "7     30/3/2017\n",
      "8    22/12/2015\n",
      "9     07/8/2014\n",
      "Name: Data, dtype: object\n"
     ]
    }
   ],
   "source": [
    "# Alterando a data para o formato dd/mm/yyyy\n",
    "for i in range (len(x['Data'])):\n",
    "    s = \"\"\n",
    "    s = x['Data'][i].split(\" \")\n",
    "    x['Data'][i] = s[0] + mes(s[2]) + s[4]\n",
    "    \n",
    "print(x['Data'].head(10))\n"
   ]
  },
  {
   "cell_type": "code",
   "execution_count": 5,
   "metadata": {},
   "outputs": [
    {
     "name": "stdout",
     "output_type": "stream",
     "text": [
      "0     636\n",
      "1    1416\n",
      "2    1594\n",
      "3     641\n",
      "4     739\n",
      "5     931\n",
      "6    1011\n",
      "7     990\n",
      "8    1448\n",
      "9    1943\n",
      "Name: Data, dtype: object\n"
     ]
    }
   ],
   "source": [
    "# Alterando a data para dias (arredondando meses para 30 dias)\n",
    "\n",
    "for i in range (len(x['Data'])):\n",
    "    s = \"\"\n",
    "    s = x['Data'][i].split(\"/\")\n",
    "    yearsToMonths = 2019 - int(s[2])\n",
    "    monthsToDays = 12 - int(s[1]) + yearsToMonths * 12\n",
    "    days = 30 - int(s[0]) + monthsToDays * 30\n",
    "    x['Data'][i] = days\n",
    "    \n",
    "print(x['Data'].head(10))"
   ]
  },
  {
   "cell_type": "code",
   "execution_count": 6,
   "metadata": {},
   "outputs": [
    {
     "name": "stdout",
     "output_type": "stream",
     "text": [
      "0    https://www.youtube.com/watch?v=KHnnNOkryMg\n",
      "1    https://www.youtube.com/watch?v=cwRHEfZm718\n",
      "2    https://www.youtube.com/watch?v=jV4K-t27l0E\n",
      "3    https://www.youtube.com/watch?v=xowiTRRsQIs\n",
      "4    https://www.youtube.com/watch?v=u-R_dAtEP9k\n",
      "5    https://www.youtube.com/watch?v=3Sv8B99lpR0\n",
      "6    https://www.youtube.com/watch?v=1qWGGhkZcB0\n",
      "7    https://www.youtube.com/watch?v=tTa8Zg5HO0M\n",
      "8    https://www.youtube.com/watch?v=AV5PjSoNZJc\n",
      "9    https://www.youtube.com/watch?v=Acc3bex1pIQ\n",
      "Name: Link, dtype: object\n"
     ]
    }
   ],
   "source": [
    "# Alterando os links para tirar os dados da playlist e deixar só os vídeos\n",
    "\n",
    "for i in range (len(x['Link'])):\n",
    "    s = \"\"\n",
    "    s = x['Link'][i].split(\"&\")\n",
    "    x['Link'][i] = s[0]\n",
    "\n",
    "print(x['Link'].head(10))"
   ]
  },
  {
   "cell_type": "code",
   "execution_count": 7,
   "metadata": {},
   "outputs": [],
   "source": [
    "# Alterando os inscritos para milhar (aproximado)\n",
    "\n",
    "for i in range (len(x['Inscritos'])):\n",
    "    x['Inscritos'][i] = x['Inscritos'][i] * 1000"
   ]
  },
  {
   "cell_type": "code",
   "execution_count": 8,
   "metadata": {},
   "outputs": [],
   "source": [
    "# Exportando o csv preprocessado\n",
    "\n",
    "x.to_csv(r'C:\\Users\\Acer\\Dropbox\\UFABC\\2019.3\\SI\\YouTube_Dataset_Preprocessing.csv', index = None, header = True)"
   ]
  },
  {
   "cell_type": "code",
   "execution_count": 9,
   "metadata": {},
   "outputs": [
    {
     "data": {
      "text/html": [
       "<div>\n",
       "<style scoped>\n",
       "    .dataframe tbody tr th:only-of-type {\n",
       "        vertical-align: middle;\n",
       "    }\n",
       "\n",
       "    .dataframe tbody tr th {\n",
       "        vertical-align: top;\n",
       "    }\n",
       "\n",
       "    .dataframe thead th {\n",
       "        text-align: right;\n",
       "    }\n",
       "</style>\n",
       "<table border=\"1\" class=\"dataframe\">\n",
       "  <thead>\n",
       "    <tr style=\"text-align: right;\">\n",
       "      <th></th>\n",
       "      <th>Título</th>\n",
       "    </tr>\n",
       "    <tr>\n",
       "      <th>Tema</th>\n",
       "      <th></th>\n",
       "    </tr>\n",
       "  </thead>\n",
       "  <tbody>\n",
       "    <tr>\n",
       "      <th>Biologia</th>\n",
       "      <td>65</td>\n",
       "    </tr>\n",
       "    <tr>\n",
       "      <th>Física</th>\n",
       "      <td>59</td>\n",
       "    </tr>\n",
       "    <tr>\n",
       "      <th>Astronomia</th>\n",
       "      <td>41</td>\n",
       "    </tr>\n",
       "    <tr>\n",
       "      <th>História</th>\n",
       "      <td>30</td>\n",
       "    </tr>\n",
       "    <tr>\n",
       "      <th>Outro</th>\n",
       "      <td>25</td>\n",
       "    </tr>\n",
       "    <tr>\n",
       "      <th>Política</th>\n",
       "      <td>21</td>\n",
       "    </tr>\n",
       "    <tr>\n",
       "      <th>Filosofia</th>\n",
       "      <td>16</td>\n",
       "    </tr>\n",
       "    <tr>\n",
       "      <th>Opinião</th>\n",
       "      <td>14</td>\n",
       "    </tr>\n",
       "    <tr>\n",
       "      <th>Computação</th>\n",
       "      <td>8</td>\n",
       "    </tr>\n",
       "    <tr>\n",
       "      <th>Religião</th>\n",
       "      <td>8</td>\n",
       "    </tr>\n",
       "    <tr>\n",
       "      <th>Sociologia</th>\n",
       "      <td>4</td>\n",
       "    </tr>\n",
       "    <tr>\n",
       "      <th>Química</th>\n",
       "      <td>3</td>\n",
       "    </tr>\n",
       "    <tr>\n",
       "      <th>Cinema</th>\n",
       "      <td>2</td>\n",
       "    </tr>\n",
       "    <tr>\n",
       "      <th>Matemática</th>\n",
       "      <td>2</td>\n",
       "    </tr>\n",
       "    <tr>\n",
       "      <th>Música</th>\n",
       "      <td>2</td>\n",
       "    </tr>\n",
       "  </tbody>\n",
       "</table>\n",
       "</div>"
      ],
      "text/plain": [
       "            Título\n",
       "Tema              \n",
       "Biologia        65\n",
       "Física          59\n",
       "Astronomia      41\n",
       "História        30\n",
       "Outro           25\n",
       "Política        21\n",
       "Filosofia       16\n",
       "Opinião         14\n",
       "Computação       8\n",
       "Religião         8\n",
       "Sociologia       4\n",
       "Química          3\n",
       "Cinema           2\n",
       "Matemática       2\n",
       "Música           2"
      ]
     },
     "execution_count": 9,
     "metadata": {},
     "output_type": "execute_result"
    }
   ],
   "source": [
    "# Mostrando quantos vídeos tem de cada Tema\n",
    "\n",
    "x.groupby('Tema').count()[['Título']].sort_values(by=['Título'], ascending=0)"
   ]
  },
  {
   "cell_type": "code",
   "execution_count": 10,
   "metadata": {},
   "outputs": [
    {
     "data": {
      "text/html": [
       "<div>\n",
       "<style scoped>\n",
       "    .dataframe tbody tr th:only-of-type {\n",
       "        vertical-align: middle;\n",
       "    }\n",
       "\n",
       "    .dataframe tbody tr th {\n",
       "        vertical-align: top;\n",
       "    }\n",
       "\n",
       "    .dataframe thead th {\n",
       "        text-align: right;\n",
       "    }\n",
       "</style>\n",
       "<table border=\"1\" class=\"dataframe\">\n",
       "  <thead>\n",
       "    <tr style=\"text-align: right;\">\n",
       "      <th></th>\n",
       "      <th>Título</th>\n",
       "    </tr>\n",
       "    <tr>\n",
       "      <th>Formato</th>\n",
       "      <th></th>\n",
       "    </tr>\n",
       "  </thead>\n",
       "  <tbody>\n",
       "    <tr>\n",
       "      <th>Vlog</th>\n",
       "      <td>184</td>\n",
       "    </tr>\n",
       "    <tr>\n",
       "      <th>Draw</th>\n",
       "      <td>64</td>\n",
       "    </tr>\n",
       "    <tr>\n",
       "      <th>Ensaio</th>\n",
       "      <td>32</td>\n",
       "    </tr>\n",
       "    <tr>\n",
       "      <th>Áudio</th>\n",
       "      <td>10</td>\n",
       "    </tr>\n",
       "    <tr>\n",
       "      <th>Outro</th>\n",
       "      <td>6</td>\n",
       "    </tr>\n",
       "    <tr>\n",
       "      <th>Entrevista</th>\n",
       "      <td>4</td>\n",
       "    </tr>\n",
       "  </tbody>\n",
       "</table>\n",
       "</div>"
      ],
      "text/plain": [
       "            Título\n",
       "Formato           \n",
       "Vlog           184\n",
       "Draw            64\n",
       "Ensaio          32\n",
       "Áudio           10\n",
       "Outro            6\n",
       "Entrevista       4"
      ]
     },
     "execution_count": 10,
     "metadata": {},
     "output_type": "execute_result"
    }
   ],
   "source": [
    "# Mostrando quantos vídeos tem de cada formato\n",
    "\n",
    "x.groupby('Formato').count()[['Título']].sort_values(by=['Título'], ascending=0)"
   ]
  },
  {
   "cell_type": "code",
   "execution_count": 11,
   "metadata": {},
   "outputs": [],
   "source": [
    "# Atribuindo números a cada tema de vídeo\n",
    "\n",
    "for i in range (len(x['Tema'])):\n",
    "    if x['Tema'][i] == \"Biologia\":\n",
    "        x['Tema'][i] = 9\n",
    "    if x['Tema'][i] == \"Física\":\n",
    "        x['Tema'][i] = 8\n",
    "    if x['Tema'][i] == \"Astronomia\":\n",
    "        x['Tema'][i] = 7\n",
    "    if x['Tema'][i] == \"História\":\n",
    "        x['Tema'][i] = 6\n",
    "    if x['Tema'][i] == \"Filosofia\":\n",
    "        x['Tema'][i] = 5\n",
    "    if x['Tema'][i] == \"Computação\":\n",
    "        x['Tema'][i] = 4\n",
    "    if x['Tema'][i] == \"Sociologia\":\n",
    "        x['Tema'][i] = 3\n",
    "    if x['Tema'][i] == \"Química\":\n",
    "        x['Tema'][i] = 2\n",
    "    if x['Tema'][i] == \"Matemática\":\n",
    "        x['Tema'][i] = 1"
   ]
  },
  {
   "cell_type": "code",
   "execution_count": 12,
   "metadata": {},
   "outputs": [],
   "source": [
    "# Atribuindo números a cada formato de vídeo\n",
    "\n",
    "for i in range (len(x['Formato'])):\n",
    "    if x['Formato'][i] == \"Vlog\":\n",
    "        x['Formato'][i] = 5\n",
    "    if x['Formato'][i] == \"Draw\":\n",
    "        x['Formato'][i] = 4\n",
    "    if x['Formato'][i] == \"Ensaio\":\n",
    "        x['Formato'][i] = 3\n",
    "    if x['Formato'][i] == \"Áudio\":\n",
    "        x['Formato'][i] = 2\n",
    "    if x['Formato'][i] == \"Entrevista\":\n",
    "        x['Formato'][i] = 1"
   ]
  },
  {
   "cell_type": "code",
   "execution_count": 13,
   "metadata": {},
   "outputs": [
    {
     "name": "stdout",
     "output_type": "stream",
     "text": [
      "275 linhas sem Tema Outro\n",
      "273 linhas sem Tema Música\n",
      "271 linhas sem Tema Cinema\n",
      "257 linhas sem Tema Opinião\n",
      "236 linhas sem Tema Política\n",
      "228 linhas sem Tema Religião\n",
      "228 linhas sem Formato Outro\n"
     ]
    }
   ],
   "source": [
    "# Apagando vídeos em formatos diferentes\n",
    "\n",
    "# Retirando vídeos de outros temas\n",
    "indexNames = x[x['Tema'] == \"Outro\"].index\n",
    "x.drop(indexNames , inplace=True)\n",
    "print(len(x), \"linhas sem Tema Outro\")\n",
    "\n",
    "# Retirando vídeos de música\n",
    "indexNames = x[x['Tema'] == \"Música\"].index\n",
    "x.drop(indexNames , inplace=True)\n",
    "print(len(x), \"linhas sem Tema Música\")\n",
    "\n",
    "# Retirando vídeos de cinema\n",
    "indexNames = x[x['Tema'] == \"Cinema\"].index\n",
    "x.drop(indexNames , inplace=True)\n",
    "print(len(x), \"linhas sem Tema Cinema\")\n",
    "\n",
    "# Retirando vídeos de opinião\n",
    "indexNames = x[x['Tema'] == \"Opinião\"].index\n",
    "x.drop(indexNames , inplace=True)\n",
    "print(len(x), \"linhas sem Tema Opinião\")\n",
    "\n",
    "# Retirando vídeos de política\n",
    "indexNames = x[x['Tema'] == \"Política\"].index\n",
    "x.drop(indexNames , inplace=True)\n",
    "print(len(x), \"linhas sem Tema Política\")\n",
    "\n",
    "# Retirando vídeos de religião\n",
    "indexNames = x[x['Tema'] == \"Religião\"].index\n",
    "x.drop(indexNames , inplace=True)\n",
    "print(len(x), \"linhas sem Tema Religião\")\n",
    "\n",
    "# Apagando vídeos em formatos diferentes\n",
    "\n",
    "indexNames = x[x['Formato'] == \"Outro\" ].index\n",
    "x.drop(indexNames , inplace=True)\n",
    "print(len(x), \"linhas sem Formato Outro\")"
   ]
  },
  {
   "cell_type": "code",
   "execution_count": 14,
   "metadata": {},
   "outputs": [],
   "source": [
    "# Retirando as colunas que não vão para o treinamento\n",
    "\n",
    "# Retirando a coluna com o Título do vídeo\n",
    "x.pop('Título')\n",
    "\n",
    "# Retirando a coluna com o Canal do vídeo\n",
    "x.pop('Canal')\n",
    "\n",
    "# Retirando a coluna com o Link do vídeo\n",
    "x.pop('Link')\n",
    "\n",
    "# Embaralhando os dados\n",
    "x = x.sample(frac=1).reset_index(drop=True)"
   ]
  },
  {
   "cell_type": "code",
   "execution_count": 15,
   "metadata": {},
   "outputs": [],
   "source": [
    "# Classificação \n",
    "# 1 para vídeos com mais de 200 mil visualizações\n",
    "# 2 para vídeos entre 100 mil e 200 mil visualizações\n",
    "# 3 para vídeos entre 50 mil e 100 mil visualizações\n",
    "# 4 para vídeos entre 10 mil e 50 mil visualizações\n",
    "# 5 para vídeos com menos de 10 mil visualizações\n",
    "\n",
    "for i in range (len(x['Visualizações'])):\n",
    "    if x['Visualizações'][i] >= 200000:\n",
    "        x['Visualizações'][i] = 5\n",
    "    elif x['Visualizações'][i] >= 100000:\n",
    "        x['Visualizações'][i] = 4\n",
    "    elif x['Visualizações'][i] >= 50000:\n",
    "        x['Visualizações'][i] = 3\n",
    "    elif x['Visualizações'][i] >= 10000:\n",
    "        x['Visualizações'][i] = 2\n",
    "    else:\n",
    "        x['Visualizações'][i] = 1"
   ]
  },
  {
   "cell_type": "code",
   "execution_count": 18,
   "metadata": {},
   "outputs": [
    {
     "name": "stdout",
     "output_type": "stream",
     "text": [
      "   Inscritos Duração Tema Formato  Data  Visualizações\n",
      "0     135000    5615    7       5  2135              1\n",
      "1     145000     321    9       3  1019              5\n",
      "2     157000    1387    5       5   990              3\n",
      "3     135000    9081    7       5  1024              4\n",
      "4     358000     265    9       4    67              3\n",
      "5     358000     243    9       4    88              3\n",
      "6     358000     162    9       4  2318              4\n",
      "7     358000     202    9       4   799              5\n",
      "8     128000     406    6       5  1938              4\n",
      "9     153000     122    6       5  1546              4\n",
      "<class 'pandas.core.frame.DataFrame'>\n"
     ]
    }
   ],
   "source": [
    "print(x.head(10))\n",
    "print(type(x))\n",
    "# Exportando o csv processado\n",
    "#x.to_csv(r'C:\\Users\\Acer\\Dropbox\\UFABC\\2019.3\\SI\\YouTube_Dataset_Processed.csv', index = None, header = True)"
   ]
  },
  {
   "cell_type": "code",
   "execution_count": 17,
   "metadata": {},
   "outputs": [
    {
     "data": {
      "text/html": [
       "<div>\n",
       "<style scoped>\n",
       "    .dataframe tbody tr th:only-of-type {\n",
       "        vertical-align: middle;\n",
       "    }\n",
       "\n",
       "    .dataframe tbody tr th {\n",
       "        vertical-align: top;\n",
       "    }\n",
       "\n",
       "    .dataframe thead th {\n",
       "        text-align: right;\n",
       "    }\n",
       "</style>\n",
       "<table border=\"1\" class=\"dataframe\">\n",
       "  <thead>\n",
       "    <tr style=\"text-align: right;\">\n",
       "      <th></th>\n",
       "      <th>Data</th>\n",
       "    </tr>\n",
       "    <tr>\n",
       "      <th>Visualizações</th>\n",
       "      <th></th>\n",
       "    </tr>\n",
       "  </thead>\n",
       "  <tbody>\n",
       "    <tr>\n",
       "      <th>1</th>\n",
       "      <td>35</td>\n",
       "    </tr>\n",
       "    <tr>\n",
       "      <th>2</th>\n",
       "      <td>46</td>\n",
       "    </tr>\n",
       "    <tr>\n",
       "      <th>3</th>\n",
       "      <td>42</td>\n",
       "    </tr>\n",
       "    <tr>\n",
       "      <th>4</th>\n",
       "      <td>69</td>\n",
       "    </tr>\n",
       "    <tr>\n",
       "      <th>5</th>\n",
       "      <td>36</td>\n",
       "    </tr>\n",
       "  </tbody>\n",
       "</table>\n",
       "</div>"
      ],
      "text/plain": [
       "               Data\n",
       "Visualizações      \n",
       "1                35\n",
       "2                46\n",
       "3                42\n",
       "4                69\n",
       "5                36"
      ]
     },
     "execution_count": 17,
     "metadata": {},
     "output_type": "execute_result"
    }
   ],
   "source": [
    "# Quantidade de elementos em cada classe\n",
    "\n",
    "x.groupby('Visualizações').count()[['Data']]"
   ]
  }
 ],
 "metadata": {
  "kernelspec": {
   "display_name": "Python 3",
   "language": "python",
   "name": "python3"
  },
  "language_info": {
   "codemirror_mode": {
    "name": "ipython",
    "version": 3
   },
   "file_extension": ".py",
   "mimetype": "text/x-python",
   "name": "python",
   "nbconvert_exporter": "python",
   "pygments_lexer": "ipython3",
   "version": "3.7.3"
  }
 },
 "nbformat": 4,
 "nbformat_minor": 2
}
